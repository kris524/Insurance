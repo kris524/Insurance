{
 "cells": [
  {
   "cell_type": "code",
   "execution_count": 409,
   "source": [
    "from IPython.display import display, Markdown\r\n",
    "\r\n",
    "with open('CANDIDATE_INSTRUCTIONS.md', 'r') as fh:\r\n",
    "    content = fh.read()\r\n",
    "\r\n",
    "display(Markdown(content))"
   ],
   "outputs": [
    {
     "output_type": "display_data",
     "data": {
      "text/plain": [
       "<IPython.core.display.Markdown object>"
      ],
      "text/markdown": [
       "# Motor Insurance Frequency Model V0.1\n",
       "---\n",
       "\n",
       "Insurance companies often model the frequency of claims, and severity of claims seperately. Claims frequency is defined as the expected number of claims that will occur over a given period of time, in this case one policy year i.e claim count per year.\n",
       "\n",
       "You have been asked to build a new Frequency model for QBE's motor portfolio. The model will form one component of the pricing model. QBE's current frequency model has received some negative feedback from the underwriting teams, they are concerned that the model does not take account of geographic area correctly, and is not getting the most out of our data. The underwriting team would like you to develop an improved model using machine learning and data science techniques.\n",
       "\n",
       "The underwriter for the motor portfolio has also suggested that external\n",
       "[ONS Data](https://www.ons.gov.uk/file?uri=/peoplepopulationandcommunity/populationandmigration/populationestimates/datasets/2011censuspopulationestimatesbyfiveyearagebandsandhouseholdestimatesforlocalauthoritiesintheunitedkingdom/r12ukrttablep04ukv2_tcm77-304141.xls)\n",
       "may give some insight into regional variations.\n",
       "\n",
       "### Guidance\n",
       "\n",
       "* You can use any valid machine learning / data science technique or algorithm for this task.\n",
       "\n",
       "### Task\n",
       "---\n",
       "\n",
       "DEVELOP A PREDICTIVE MODEL OF CLAIM FREQUENCY\n",
       "\n",
       "\n",
       "### Task Scoring\n",
       "---\n",
       "\n",
       "* __Rationale and documentation__: Documented logical and scientific rationale. Demonstrate your knowledge and choice of approach, be willing to make compromises but document your rationale.\n",
       "\n",
       "* __Data Science workflow__: Solid implementation of Data Science model build and evaluation process. You do not need to pursue every avenue of investigation or approach, remember the reviewer is primarily interested in evaluating your thought process and ability. Do enough to demonstrate your knowledge and ability, and add comments to tell the reviewer what further investigations or improvements could be made.\n",
       "\n",
       "* __Code Quality__: The assignment should be completed in Python, code should be clean and maintainable. Please follow a popular code style convention such as PEP8.  Use of notebooks is encouraged.\n",
       "\n",
       "* __Visualisations__: Include visualisations within your code, remember to follow good practice assume that visuals could be included in stakeholder presentations or be used to explain a piece of analysis.\n",
       "\n",
       "* __Business / Commercial Considerations__: Please also consider and comment on any usage,  or business related considerations, or limitations relating to your analysis.\n",
       "\n",
       "* __Holdout__: Your model will be compared against 2019 data (please ensure your submission includes predictions for 2019).\n",
       "\n",
       "---\n",
       "\n",
       "### Data Files\n",
       "\n",
       "* *Xy_candidate.csv* - Training data including the target variable.\n",
       "* *X_holdout_candidate.csv* - 2019 holdout data, exludes target variable.\n",
       "\n",
       "### Data Dictionary\n",
       "\n",
       "* __Colour__ : Color of vehicle.\n",
       "* __Driver Age__: Age of Driver.\n",
       "* __Experience__ : Number of years licence has been held.\n",
       "* __Gender__ : Gender of driver.\n",
       "* __Type__ : Type of vehicle.\n",
       "* __Mileage__ : Annual vehicle mileage estimate.\n",
       "* __Vehicle Age__: Age of vehicle in years.\n",
       "* __Windscreen Cover__ : Is cover for windscreen chips and cracks included.\n",
       "* __Credit Score__ : Third party credit score for assured.\n",
       "* __NCB__: No Claims bonus - the number of years without a claim.\n",
       "* __Deductible__: The selected deductible for the policy.\n",
       "* __Driving Record__ : The number of penalty points held by the policy holder.\n",
       "* __Policy Duration__: The majority of risks are a 12 month duration, but some are 18 month policies.\n",
       "* __Area__: Geographic region of the UK\n",
       "* __Underwriting Year__: What year the policy incepted.\n"
      ]
     },
     "metadata": {}
    }
   ],
   "metadata": {}
  },
  {
   "cell_type": "markdown",
   "source": [
    "# Plan:\r\n",
    "## 1. Perfrom exploratory data analysis, find insights and draw conclusions\r\n",
    "\r\n",
    "## 2. Feature engineering\r\n",
    "\r\n",
    "## 3. Apply Decision Tree Classifier with and without hyperparameter tuning\r\n",
    "\r\n",
    "## 4. Apply Random Forest"
   ],
   "metadata": {}
  },
  {
   "cell_type": "markdown",
   "source": [
    ">  \"Predicting the claim amount value may be seen as a regression \\\r\n",
    ">  problem because the outcome is a continuous variable. At the same time the problem \\\r\n",
    ">  could be transformed into a classification one by transforming the claim amount variable \\\r\n",
    ">  into a binary variable taking value one (Y = 1) if its value is greater than zero and zero \\\r\n",
    ">  otherwise (Y = 0).\" \\\r\n",
    "Source: https://dalpozz.github.io/static/pdf/Claim_prediction.pdf  \r\n",
    "\r\n",
    "\r\n",
    "\r\n",
    "In this project, we will use Classification algorithms to predict claim frequency. Regression algorithms were tried but they were underperforming"
   ],
   "metadata": {}
  },
  {
   "cell_type": "code",
   "execution_count": 16,
   "source": [
    "import pandas as pd\r\n",
    "data = pd.read_csv(r'C:\\Users\\krist\\Downloads\\DS Technical Challenge\\Xy_candidate.csv')"
   ],
   "outputs": [],
   "metadata": {}
  },
  {
   "cell_type": "code",
   "execution_count": 411,
   "source": [
    "data.head()"
   ],
   "outputs": [
    {
     "output_type": "execute_result",
     "data": {
      "text/plain": [
       "   Unnamed: 0  policy_ref  colour  driver_age  experience  gender       type  \\\n",
       "0           0           0    blue        32.0        18.0    male        SUV   \n",
       "1           1           1  silver        55.0        17.0  female  Hatchback   \n",
       "2           2           2   black        61.0        13.0  female  Hatchback   \n",
       "3           3           3   white        32.0        15.0    male      Coupe   \n",
       "4           4           4  silver        46.0         6.0    male     Estate   \n",
       "\n",
       "   mileage  vehicle_age  windscreen_cover  credit_score  ncb  deductible  \\\n",
       "0  19092.0          8.0             False         348.0    2         250   \n",
       "1   1424.0         16.0             False         672.0    2         250   \n",
       "2  14028.0          7.0             False          92.0    0         250   \n",
       "3   6019.0         19.0             False         260.0    2         750   \n",
       "4   2393.0          9.0             False         620.0    1         500   \n",
       "\n",
       "   driving_record policy_duration                    area  underwriting_year  \\\n",
       "0             1.0        18 month                 Hackney             2017.0   \n",
       "1             0.0        12 month               Sheffield             2014.0   \n",
       "2             2.0        12 month  Kensington and Chelsea             2017.0   \n",
       "3             6.0        12 month        Stockton-on-Tees             2014.0   \n",
       "4             2.0        12 month            Renfrewshire             2018.0   \n",
       "\n",
       "   claim_count      policy_holder  \n",
       "0            0      Richard Brown  \n",
       "1            0       Megan Knight  \n",
       "2            1  Jennifer Thornton  \n",
       "3            0        Brian Huber  \n",
       "4            0     Jacob Thompson  "
      ],
      "text/html": [
       "<div>\n",
       "<style scoped>\n",
       "    .dataframe tbody tr th:only-of-type {\n",
       "        vertical-align: middle;\n",
       "    }\n",
       "\n",
       "    .dataframe tbody tr th {\n",
       "        vertical-align: top;\n",
       "    }\n",
       "\n",
       "    .dataframe thead th {\n",
       "        text-align: right;\n",
       "    }\n",
       "</style>\n",
       "<table border=\"1\" class=\"dataframe\">\n",
       "  <thead>\n",
       "    <tr style=\"text-align: right;\">\n",
       "      <th></th>\n",
       "      <th>Unnamed: 0</th>\n",
       "      <th>policy_ref</th>\n",
       "      <th>colour</th>\n",
       "      <th>driver_age</th>\n",
       "      <th>experience</th>\n",
       "      <th>gender</th>\n",
       "      <th>type</th>\n",
       "      <th>mileage</th>\n",
       "      <th>vehicle_age</th>\n",
       "      <th>windscreen_cover</th>\n",
       "      <th>credit_score</th>\n",
       "      <th>ncb</th>\n",
       "      <th>deductible</th>\n",
       "      <th>driving_record</th>\n",
       "      <th>policy_duration</th>\n",
       "      <th>area</th>\n",
       "      <th>underwriting_year</th>\n",
       "      <th>claim_count</th>\n",
       "      <th>policy_holder</th>\n",
       "    </tr>\n",
       "  </thead>\n",
       "  <tbody>\n",
       "    <tr>\n",
       "      <th>0</th>\n",
       "      <td>0</td>\n",
       "      <td>0</td>\n",
       "      <td>blue</td>\n",
       "      <td>32.0</td>\n",
       "      <td>18.0</td>\n",
       "      <td>male</td>\n",
       "      <td>SUV</td>\n",
       "      <td>19092.0</td>\n",
       "      <td>8.0</td>\n",
       "      <td>False</td>\n",
       "      <td>348.0</td>\n",
       "      <td>2</td>\n",
       "      <td>250</td>\n",
       "      <td>1.0</td>\n",
       "      <td>18 month</td>\n",
       "      <td>Hackney</td>\n",
       "      <td>2017.0</td>\n",
       "      <td>0</td>\n",
       "      <td>Richard Brown</td>\n",
       "    </tr>\n",
       "    <tr>\n",
       "      <th>1</th>\n",
       "      <td>1</td>\n",
       "      <td>1</td>\n",
       "      <td>silver</td>\n",
       "      <td>55.0</td>\n",
       "      <td>17.0</td>\n",
       "      <td>female</td>\n",
       "      <td>Hatchback</td>\n",
       "      <td>1424.0</td>\n",
       "      <td>16.0</td>\n",
       "      <td>False</td>\n",
       "      <td>672.0</td>\n",
       "      <td>2</td>\n",
       "      <td>250</td>\n",
       "      <td>0.0</td>\n",
       "      <td>12 month</td>\n",
       "      <td>Sheffield</td>\n",
       "      <td>2014.0</td>\n",
       "      <td>0</td>\n",
       "      <td>Megan Knight</td>\n",
       "    </tr>\n",
       "    <tr>\n",
       "      <th>2</th>\n",
       "      <td>2</td>\n",
       "      <td>2</td>\n",
       "      <td>black</td>\n",
       "      <td>61.0</td>\n",
       "      <td>13.0</td>\n",
       "      <td>female</td>\n",
       "      <td>Hatchback</td>\n",
       "      <td>14028.0</td>\n",
       "      <td>7.0</td>\n",
       "      <td>False</td>\n",
       "      <td>92.0</td>\n",
       "      <td>0</td>\n",
       "      <td>250</td>\n",
       "      <td>2.0</td>\n",
       "      <td>12 month</td>\n",
       "      <td>Kensington and Chelsea</td>\n",
       "      <td>2017.0</td>\n",
       "      <td>1</td>\n",
       "      <td>Jennifer Thornton</td>\n",
       "    </tr>\n",
       "    <tr>\n",
       "      <th>3</th>\n",
       "      <td>3</td>\n",
       "      <td>3</td>\n",
       "      <td>white</td>\n",
       "      <td>32.0</td>\n",
       "      <td>15.0</td>\n",
       "      <td>male</td>\n",
       "      <td>Coupe</td>\n",
       "      <td>6019.0</td>\n",
       "      <td>19.0</td>\n",
       "      <td>False</td>\n",
       "      <td>260.0</td>\n",
       "      <td>2</td>\n",
       "      <td>750</td>\n",
       "      <td>6.0</td>\n",
       "      <td>12 month</td>\n",
       "      <td>Stockton-on-Tees</td>\n",
       "      <td>2014.0</td>\n",
       "      <td>0</td>\n",
       "      <td>Brian Huber</td>\n",
       "    </tr>\n",
       "    <tr>\n",
       "      <th>4</th>\n",
       "      <td>4</td>\n",
       "      <td>4</td>\n",
       "      <td>silver</td>\n",
       "      <td>46.0</td>\n",
       "      <td>6.0</td>\n",
       "      <td>male</td>\n",
       "      <td>Estate</td>\n",
       "      <td>2393.0</td>\n",
       "      <td>9.0</td>\n",
       "      <td>False</td>\n",
       "      <td>620.0</td>\n",
       "      <td>1</td>\n",
       "      <td>500</td>\n",
       "      <td>2.0</td>\n",
       "      <td>12 month</td>\n",
       "      <td>Renfrewshire</td>\n",
       "      <td>2018.0</td>\n",
       "      <td>0</td>\n",
       "      <td>Jacob Thompson</td>\n",
       "    </tr>\n",
       "  </tbody>\n",
       "</table>\n",
       "</div>"
      ]
     },
     "metadata": {},
     "execution_count": 411
    }
   ],
   "metadata": {}
  },
  {
   "cell_type": "code",
   "execution_count": 17,
   "source": [
    "#See how many missing values we have and drop them\r\n",
    "#Drop the unneded data\r\n",
    "data = data.drop(['Unnamed: 0','policy_ref','policy_holder'],axis = 1) \r\n",
    "\r\n",
    "print(data.isnull().sum())\r\n",
    "data = data.dropna()\r\n",
    "print(len(data))"
   ],
   "outputs": [
    {
     "output_type": "stream",
     "name": "stdout",
     "text": [
      "colour               36310\n",
      "driver_age            3695\n",
      "experience               0\n",
      "gender                1875\n",
      "type                     0\n",
      "mileage                  0\n",
      "vehicle_age              0\n",
      "windscreen_cover         0\n",
      "credit_score             0\n",
      "ncb                      0\n",
      "deductible               0\n",
      "driving_record           0\n",
      "policy_duration          0\n",
      "area                     0\n",
      "underwriting_year        0\n",
      "claim_count              0\n",
      "dtype: int64\n",
      "142621\n"
     ]
    }
   ],
   "metadata": {}
  },
  {
   "cell_type": "markdown",
   "source": [
    "# Driver age vs Claim count"
   ],
   "metadata": {}
  },
  {
   "cell_type": "code",
   "execution_count": 18,
   "source": [
    "import seaborn as sns\r\n",
    "import numpy as np\r\n",
    "import matplotlib.pyplot as plt\r\n",
    "#Set figure size to be 15x6 and cahnge styles\r\n",
    "plt.figure(figsize=(15,6))\r\n",
    "sns.set(font_scale = 1.5)\r\n",
    "sns.set_theme(style='whitegrid')\r\n",
    "\r\n",
    "ax = sns.barplot(data['driver_age'],data['claim_count'],ci =None)\r\n",
    "#Make ticks more spread out and readable\r\n",
    "ax.set_xticks(np.arange(0, max(data['driver_age']), 3))\r\n",
    "\r\n",
    "plt.xlabel('Age')\r\n",
    "plt.ylabel('Claim Count')"
   ],
   "outputs": [
    {
     "output_type": "stream",
     "name": "stderr",
     "text": [
      "C:\\Users\\krist\\AppData\\Local\\Programs\\Python\\Python39\\lib\\site-packages\\seaborn\\_decorators.py:36: FutureWarning: Pass the following variables as keyword args: x, y. From version 0.12, the only valid positional argument will be `data`, and passing other arguments without an explicit keyword will result in an error or misinterpretation.\n",
      "  warnings.warn(\n"
     ]
    },
    {
     "output_type": "execute_result",
     "data": {
      "text/plain": [
       "Text(0, 0.5, 'Claim Count')"
      ]
     },
     "metadata": {},
     "execution_count": 18
    },
    {
     "output_type": "display_data",
     "data": {
      "text/plain": [
       "<Figure size 1080x432 with 1 Axes>"
      ],
      "image/png": "[encoded data removed]"
     },
     "metadata": {
      "needs_background": "light"
     }
    }
   ],
   "metadata": {}
  },
  {
   "cell_type": "markdown",
   "source": [
    "## Insight: \r\n",
    "### The claims are high when the driver is young, then decrease between 20 years old and 70 and they increase again.\r\n",
    "### Premium is pushed up for younger and older people"
   ],
   "metadata": {}
  },
  {
   "cell_type": "markdown",
   "source": [
    "_________________"
   ],
   "metadata": {}
  },
  {
   "cell_type": "markdown",
   "source": [
    "# Claim count frequency"
   ],
   "metadata": {}
  },
  {
   "cell_type": "code",
   "execution_count": 419,
   "source": [
    "\r\n",
    "sns.set_theme(style='whitegrid')\r\n",
    "sns.set(font_scale = 1.5)\r\n",
    "fig, axes = plt.subplots(1, 2, figsize=(16, 5))\r\n",
    "\r\n",
    "\r\n",
    "sns.distplot(data['claim_count'],kde = True,hist = False,ax=axes[0])\r\n",
    "axes[0].set(xlabel='Claim count', ylabel ='Frequency')\r\n",
    "\r\n",
    "sns.set(font_scale = 1.5)\r\n",
    "sns.countplot(x='claim_count',hue ='gender' ,data=data,ax = axes[1])\r\n",
    "axes[1].set(xlabel='Claim count', ylabel ='Frequency')\r\n"
   ],
   "outputs": [
    {
     "output_type": "stream",
     "name": "stderr",
     "text": [
      "C:\\Users\\krist\\AppData\\Local\\Programs\\Python\\Python39\\lib\\site-packages\\seaborn\\distributions.py:2557: FutureWarning: `distplot` is a deprecated function and will be removed in a future version. Please adapt your code to use either `displot` (a figure-level function with similar flexibility) or `kdeplot` (an axes-level function for kernel density plots).\n",
      "  warnings.warn(msg, FutureWarning)\n"
     ]
    },
    {
     "output_type": "execute_result",
     "data": {
      "text/plain": [
       "[Text(0.5, 0, 'Claim count'), Text(0, 0.5, 'Frequency')]"
      ]
     },
     "metadata": {},
     "execution_count": 419
    },
    {
     "output_type": "display_data",
     "data": {
      "text/plain": [
       "<Figure size 1152x360 with 2 Axes>"
      ],
      "image/png": "[encoded data removed]"
     },
     "metadata": {}
    }
   ],
   "metadata": {}
  },
  {
   "cell_type": "markdown",
   "source": [
    "## Insight:\r\n",
    "### We see a Poisson distribution\r\n",
    "### There are almost equal amount of males and females who dont file a claim. \r\n",
    "### There are more males than females that file for at leat 1 claim and few file for 2."
   ],
   "metadata": {}
  },
  {
   "cell_type": "markdown",
   "source": [
    "_________________"
   ],
   "metadata": {}
  },
  {
   "cell_type": "markdown",
   "source": [
    "# Pointplot"
   ],
   "metadata": {}
  },
  {
   "cell_type": "code",
   "execution_count": 56,
   "source": [
    "#Create a pointplot to check if windscreen cover affects claim count and divide by gender\r\n",
    "sns.set_theme(style=\"darkgrid\")\r\n",
    "plt.figure(figsize=(13,6))\r\n",
    "sns.set(font_scale = 1.5)\r\n",
    "\r\n",
    "#doge parameter removes the overlap\r\n",
    "ax = sns.pointplot(x=\"windscreen_cover\", y=\"claim_count\",hue='gender' ,data=data,dodge=True,palette='mako')\r\n",
    "plt.xlabel('Windscreen cover')\r\n",
    "plt.ylabel('Claim count')"
   ],
   "outputs": [
    {
     "output_type": "execute_result",
     "data": {
      "text/plain": [
       "Text(0, 0.5, 'Claim count')"
      ]
     },
     "metadata": {},
     "execution_count": 56
    },
    {
     "output_type": "display_data",
     "data": {
      "text/plain": [
       "<Figure size 936x432 with 1 Axes>"
      ],
      "image/png": "[encoded data removed]"
     },
     "metadata": {}
    }
   ],
   "metadata": {}
  },
  {
   "cell_type": "markdown",
   "source": [
    "## Insight:\r\n",
    "### Males who have a windscreen cover are most likely to file a claim, same is true for females, altough less likely"
   ],
   "metadata": {}
  },
  {
   "cell_type": "code",
   "execution_count": 57,
   "source": [
    "#Check if policy duration has an effect and divide by gender\r\n",
    "sns.set_theme(style=\"darkgrid\")\r\n",
    "plt.figure(figsize=(13,6))\r\n",
    "sns.set(font_scale = 1.5)\r\n",
    "\r\n",
    "#Use dodge to prevent overlap\r\n",
    "sns.pointplot(x=\"policy_duration\", y=\"claim_count\",hue='gender' ,data=data,dodge=True,palette='mako')\r\n",
    "plt.xlabel('Policy duration')\r\n",
    "plt.ylabel('Claim count')"
   ],
   "outputs": [
    {
     "output_type": "execute_result",
     "data": {
      "text/plain": [
       "Text(0, 0.5, 'Claim count')"
      ]
     },
     "metadata": {},
     "execution_count": 57
    },
    {
     "output_type": "display_data",
     "data": {
      "text/plain": [
       "<Figure size 936x432 with 1 Axes>"
      ],
      "image/png": "[encoded data removed]"
     },
     "metadata": {}
    }
   ],
   "metadata": {}
  },
  {
   "cell_type": "markdown",
   "source": [
    "## Insight:\r\n",
    "### Males and females who have 18 month policy duration are more likely to file a calim than those with 12 months"
   ],
   "metadata": {}
  },
  {
   "cell_type": "markdown",
   "source": [
    "_________________"
   ],
   "metadata": {}
  },
  {
   "cell_type": "markdown",
   "source": [
    "# NCB vs Claim count"
   ],
   "metadata": {}
  },
  {
   "cell_type": "code",
   "execution_count": 420,
   "source": [
    "sns.set_theme(style='whitegrid')\r\n",
    "sns.set(font_scale = 1.5)\r\n",
    "fig, axes = plt.subplots(1, 2, figsize=(16, 5))\r\n",
    "\r\n",
    "sns.barplot(ax=axes[0],x = 'ncb',y = 'claim_count',data = data)\r\n",
    "axes[0].set(xlabel='NCB', ylabel ='Claim count')\r\n",
    "\r\n",
    "sns.barplot(ax = axes[1],x = 'ncb',y = 'claim_count',data = data,hue='gender')\r\n",
    "axes[1].set(xlabel='NCB', ylabel = 'Claim count')"
   ],
   "outputs": [
    {
     "output_type": "execute_result",
     "data": {
      "text/plain": [
       "[Text(0.5, 0, 'NCB'), Text(0, 0.5, 'Claim count')]"
      ]
     },
     "metadata": {},
     "execution_count": 420
    },
    {
     "output_type": "display_data",
     "data": {
      "text/plain": [
       "<Figure size 1152x360 with 2 Axes>"
      ],
      "image/png": "[encoded data removed]"
     },
     "metadata": {}
    }
   ],
   "metadata": {}
  },
  {
   "cell_type": "markdown",
   "source": [
    "## Insight:\r\n",
    "### The higher no claim bonus, the less claim counts we have. When dividing into gender, males have higher counts"
   ],
   "metadata": {}
  },
  {
   "cell_type": "markdown",
   "source": [
    "_________________"
   ],
   "metadata": {}
  },
  {
   "cell_type": "markdown",
   "source": [
    "# Experience vs claim count"
   ],
   "metadata": {}
  },
  {
   "cell_type": "code",
   "execution_count": 60,
   "source": [
    "plt.figure(figsize=(13,6))\r\n",
    "sns.set(font_scale = 1.5)\r\n",
    "\r\n",
    "ax = sns.barplot( data[\"experience\"], data[\"claim_count\"])\r\n",
    "\r\n",
    "#Make sure no overlap between x data, set them 5 numbers apart starting from min exp until max exp\r\n",
    "ax.set_xticks(np.arange(min(data['experience']), max(data['experience']), 5))\r\n",
    "\r\n",
    "plt.xlabel('Experience')\r\n",
    "plt.ylabel('Claim count')"
   ],
   "outputs": [
    {
     "output_type": "stream",
     "name": "stderr",
     "text": [
      "C:\\Users\\krist\\AppData\\Local\\Programs\\Python\\Python39\\lib\\site-packages\\seaborn\\_decorators.py:36: FutureWarning: Pass the following variables as keyword args: x, y. From version 0.12, the only valid positional argument will be `data`, and passing other arguments without an explicit keyword will result in an error or misinterpretation.\n",
      "  warnings.warn(\n"
     ]
    },
    {
     "output_type": "execute_result",
     "data": {
      "text/plain": [
       "Text(0, 0.5, 'Claim count')"
      ]
     },
     "metadata": {},
     "execution_count": 60
    },
    {
     "output_type": "display_data",
     "data": {
      "text/plain": [
       "<Figure size 936x432 with 1 Axes>"
      ],
      "image/png": "[encoded data removed]"
     },
     "metadata": {}
    }
   ],
   "metadata": {}
  },
  {
   "cell_type": "markdown",
   "source": [
    "## Insight:\r\n",
    "### The number of claims decreases as the driver becomes more expereinced"
   ],
   "metadata": {}
  },
  {
   "cell_type": "markdown",
   "source": [
    "_________________"
   ],
   "metadata": {}
  },
  {
   "cell_type": "markdown",
   "source": [
    "# Driving record vs claim count"
   ],
   "metadata": {}
  },
  {
   "cell_type": "code",
   "execution_count": 422,
   "source": [
    "sns.set_theme(style='whitegrid')\r\n",
    "plt.figure(figsize=(13,6))\r\n",
    "sns.set(font_scale = 1.5)\r\n",
    "\r\n",
    "fig, axes = plt.subplots(1, 2, figsize=(18, 5))\r\n",
    "\r\n",
    "\r\n",
    "sns.barplot( x ='driving_record', y = 'claim_count',data = data,ax = axes[0]) \r\n",
    "axes[0].set(xlabel='Driving record', ylabel ='Claim count')\r\n",
    "\r\n",
    "sns.barplot( x ='driving_record', y = 'claim_count',hue = 'gender',data = data,ax = axes[1]) \r\n",
    "axes[1].set(xlabel='Driving record', ylabel ='Claim count')"
   ],
   "outputs": [
    {
     "output_type": "execute_result",
     "data": {
      "text/plain": [
       "[Text(0.5, 0, 'Driving record'), Text(0, 0.5, 'Claim count')]"
      ]
     },
     "metadata": {},
     "execution_count": 422
    },
    {
     "output_type": "display_data",
     "data": {
      "text/plain": [
       "<Figure size 936x432 with 0 Axes>"
      ]
     },
     "metadata": {}
    },
    {
     "output_type": "display_data",
     "data": {
      "text/plain": [
       "<Figure size 1296x360 with 2 Axes>"
      ],
      "image/png": "[encoded data removed]"
     },
     "metadata": {}
    }
   ],
   "metadata": {}
  },
  {
   "cell_type": "markdown",
   "source": [
    "## Insight:\r\n",
    "### Claim count increases as the number of penalty points increases. In addition, males are more likely to file a claim"
   ],
   "metadata": {}
  },
  {
   "cell_type": "markdown",
   "source": [
    "_________________"
   ],
   "metadata": {}
  },
  {
   "cell_type": "markdown",
   "source": [
    "# Underwriting year vs Claim count"
   ],
   "metadata": {}
  },
  {
   "cell_type": "code",
   "execution_count": 423,
   "source": [
    "sns.set_theme(style='whitegrid')\r\n",
    "plt.figure(figsize=(13,6))\r\n",
    "sns.set(font_scale = 1.5)\r\n",
    "sns.barplot( x ='underwriting_year', y = 'claim_count',data = data) \r\n",
    "\r\n",
    "plt.xlabel('Underwriting year')\r\n",
    "plt.ylabel('Claim count')\r\n"
   ],
   "outputs": [
    {
     "output_type": "execute_result",
     "data": {
      "text/plain": [
       "Text(0, 0.5, 'Claim count')"
      ]
     },
     "metadata": {},
     "execution_count": 423
    },
    {
     "output_type": "display_data",
     "data": {
      "text/plain": [
       "<Figure size 936x432 with 1 Axes>"
      ],
      "image/png": "[encoded data removed]"
     },
     "metadata": {}
    }
   ],
   "metadata": {}
  },
  {
   "cell_type": "markdown",
   "source": [
    "## Insight:\r\n",
    "### In recent years, more and more claims are being filed. "
   ],
   "metadata": {}
  },
  {
   "cell_type": "markdown",
   "source": [
    "_________________"
   ],
   "metadata": {}
  },
  {
   "cell_type": "markdown",
   "source": [
    "# Deductible vs Claim Count"
   ],
   "metadata": {}
  },
  {
   "cell_type": "code",
   "execution_count": 121,
   "source": [
    "sns.set_theme(style=\"whitegrid\")\r\n",
    "plt.figure(figsize=(13,6))\r\n",
    "sns.set(font_scale = 1.5)\r\n",
    "sns.barplot( x ='deductible', y = 'claim_count',data = data) \r\n",
    "\r\n",
    "plt.xlabel('Deductible')\r\n",
    "plt.ylabel('Claim count')\r\n",
    "#More males have higher penalty points and hence higher claim frequency tahn females"
   ],
   "outputs": [
    {
     "output_type": "execute_result",
     "data": {
      "text/plain": [
       "Text(0, 0.5, 'Claim count')"
      ]
     },
     "metadata": {},
     "execution_count": 121
    },
    {
     "output_type": "display_data",
     "data": {
      "text/plain": [
       "<Figure size 936x432 with 1 Axes>"
      ],
      "image/png": "[encoded data removed]"
     },
     "metadata": {}
    }
   ],
   "metadata": {}
  },
  {
   "cell_type": "markdown",
   "source": [
    "## Insight:\r\n",
    "### The lower the deductible, the more likely the client will file a claim"
   ],
   "metadata": {}
  },
  {
   "cell_type": "markdown",
   "source": [
    "_________________"
   ],
   "metadata": {}
  },
  {
   "cell_type": "markdown",
   "source": [
    "# Mileage vs Claim Count"
   ],
   "metadata": {}
  },
  {
   "cell_type": "code",
   "execution_count": 112,
   "source": [
    "sns.set_theme(style=\"whitegrid\" )\r\n",
    "plt.figure(figsize=(13,6))\r\n",
    "sns.set(font_scale = 1.5)\r\n",
    "\r\n",
    "sns.boxplot(x=\"mileage\", y=\"claim_count\", data=data,\r\n",
    "             width=.6,palette=\"Set2\",orient=\"h\",showfliers = False)\r\n",
    "\r\n",
    "plt.gca().invert_yaxis()\r\n",
    "plt.xlabel('Mileage')\r\n",
    "plt.ylabel('Claim count')\r\n"
   ],
   "outputs": [
    {
     "output_type": "execute_result",
     "data": {
      "text/plain": [
       "Text(0, 0.5, 'Claim count')"
      ]
     },
     "metadata": {},
     "execution_count": 112
    },
    {
     "output_type": "display_data",
     "data": {
      "text/plain": [
       "<Figure size 936x432 with 1 Axes>"
      ],
      "image/png": "[encoded data removed]"
     },
     "metadata": {}
    }
   ],
   "metadata": {}
  },
  {
   "cell_type": "markdown",
   "source": [
    "## Insight:\r\n",
    "### We can approximate that the owner of a car with higher mileage will most likely file a claim"
   ],
   "metadata": {}
  },
  {
   "cell_type": "markdown",
   "source": [
    "_________________"
   ],
   "metadata": {}
  },
  {
   "cell_type": "markdown",
   "source": [
    "# Colour vs Claim Count"
   ],
   "metadata": {}
  },
  {
   "cell_type": "code",
   "execution_count": 425,
   "source": [
    "sns.set_theme(style=\"whitegrid\")\r\n",
    "plt.figure(figsize=(13,6))\r\n",
    "sns.set(font_scale = 1.5)\r\n",
    "sns.barplot( x ='colour', y = 'claim_count',data = data,palette='flare') \r\n",
    "\r\n",
    "plt.xlabel('Colour')\r\n",
    "plt.ylabel('Claim count')"
   ],
   "outputs": [
    {
     "output_type": "execute_result",
     "data": {
      "text/plain": [
       "Text(0, 0.5, 'Claim count')"
      ]
     },
     "metadata": {},
     "execution_count": 425
    },
    {
     "output_type": "display_data",
     "data": {
      "text/plain": [
       "<Figure size 936x432 with 1 Axes>"
      ],
      "image/png": "[encoded data removed]"
     },
     "metadata": {}
    }
   ],
   "metadata": {}
  },
  {
   "cell_type": "markdown",
   "source": [
    "## Insight:\r\n",
    "### The owners of black and green cars are most likely to file a claim"
   ],
   "metadata": {}
  },
  {
   "cell_type": "markdown",
   "source": [
    "_________________"
   ],
   "metadata": {}
  },
  {
   "cell_type": "markdown",
   "source": [
    "# Type vs Claim count"
   ],
   "metadata": {}
  },
  {
   "cell_type": "code",
   "execution_count": 61,
   "source": [
    "sns.set_theme(style=\"whitegrid\")\r\n",
    "plt.figure(figsize=(13,6))\r\n",
    "sns.set(font_scale = 1.5)\r\n",
    "sns.barplot( x ='type', y = 'claim_count',data = data,palette='mako') \r\n",
    "\r\n",
    "plt.xlabel('Type')\r\n",
    "plt.ylabel('Claim count')"
   ],
   "outputs": [
    {
     "output_type": "execute_result",
     "data": {
      "text/plain": [
       "Text(0, 0.5, 'Claim count')"
      ]
     },
     "metadata": {},
     "execution_count": 61
    },
    {
     "output_type": "display_data",
     "data": {
      "text/plain": [
       "<Figure size 936x432 with 1 Axes>"
      ],
      "image/png": "[encoded data removed]"
     },
     "metadata": {}
    }
   ],
   "metadata": {}
  },
  {
   "cell_type": "markdown",
   "source": [
    "## Insight:\r\n",
    "### Owners of Hatchback, Sports car and Convertable will most likely file a calim"
   ],
   "metadata": {}
  },
  {
   "cell_type": "markdown",
   "source": [
    "__________________________________"
   ],
   "metadata": {}
  },
  {
   "cell_type": "markdown",
   "source": [
    "# Part 2: Feature Engineering"
   ],
   "metadata": {}
  },
  {
   "cell_type": "code",
   "execution_count": 19,
   "source": [
    "#Encode the data, only objects\r\n",
    "\r\n",
    "data[\"gender\"] = data[\"gender\"].astype('category')\r\n",
    "data[\"gender\"] = data[\"gender\"].cat.codes\r\n",
    "\r\n",
    "\r\n",
    "data[\"policy_duration\"] = data[\"policy_duration\"].astype('category')\r\n",
    "data[\"policy_duration\"] = data[\"policy_duration\"].cat.codes\r\n",
    "\r\n",
    "\r\n",
    "data[\"area\"] = data[\"area\"].astype('category')\r\n",
    "data[\"area\"] = data[\"area\"].cat.codes\r\n",
    "\r\n",
    "\r\n",
    "data[\"type\"] = data[\"type\"].astype('category')\r\n",
    "data[\"type\"] = data[\"type\"].cat.codes\r\n",
    "\r\n",
    "data[\"colour\"] = data[\"colour\"].astype('category')\r\n",
    "data[\"colour\"] = data[\"colour\"].cat.codes\r\n",
    "\r\n",
    "print(data.dtypes)"
   ],
   "outputs": [
    {
     "output_type": "stream",
     "name": "stdout",
     "text": [
      "colour                  int8\n",
      "driver_age           float64\n",
      "experience           float64\n",
      "gender                  int8\n",
      "type                    int8\n",
      "mileage              float64\n",
      "vehicle_age          float64\n",
      "windscreen_cover        bool\n",
      "credit_score         float64\n",
      "ncb                    int64\n",
      "deductible             int64\n",
      "driving_record       float64\n",
      "policy_duration         int8\n",
      "area                   int16\n",
      "underwriting_year    float64\n",
      "claim_count            int64\n",
      "dtype: object\n"
     ]
    }
   ],
   "metadata": {}
  },
  {
   "cell_type": "code",
   "execution_count": 496,
   "source": [
    "data.head()"
   ],
   "outputs": [
    {
     "output_type": "execute_result",
     "data": {
      "text/plain": [
       "   colour  driver_age  experience  gender  type  mileage  vehicle_age  \\\n",
       "0       1        32.0        18.0       1     5  19092.0          8.0   \n",
       "1       6        55.0        17.0       0     3   1424.0         16.0   \n",
       "2       0        61.0        13.0       0     3  14028.0          7.0   \n",
       "3       7        32.0        15.0       1     1   6019.0         19.0   \n",
       "4       6        46.0         6.0       1     2   2393.0          9.0   \n",
       "\n",
       "   windscreen_cover  credit_score  ncb  deductible  driving_record  \\\n",
       "0             False         348.0    2         250             1.0   \n",
       "1             False         672.0    2         250             0.0   \n",
       "2             False          92.0    0         250             2.0   \n",
       "3             False         260.0    2         750             6.0   \n",
       "4             False         620.0    1         500             2.0   \n",
       "\n",
       "   policy_duration  area  underwriting_year  claim_count  \n",
       "0                1   154             2017.0            0  \n",
       "1                0   298             2014.0            0  \n",
       "2                0   184             2017.0            1  \n",
       "3                0   333             2014.0            0  \n",
       "4                0   274             2018.0            0  "
      ],
      "text/html": [
       "<div>\n",
       "<style scoped>\n",
       "    .dataframe tbody tr th:only-of-type {\n",
       "        vertical-align: middle;\n",
       "    }\n",
       "\n",
       "    .dataframe tbody tr th {\n",
       "        vertical-align: top;\n",
       "    }\n",
       "\n",
       "    .dataframe thead th {\n",
       "        text-align: right;\n",
       "    }\n",
       "</style>\n",
       "<table border=\"1\" class=\"dataframe\">\n",
       "  <thead>\n",
       "    <tr style=\"text-align: right;\">\n",
       "      <th></th>\n",
       "      <th>colour</th>\n",
       "      <th>driver_age</th>\n",
       "      <th>experience</th>\n",
       "      <th>gender</th>\n",
       "      <th>type</th>\n",
       "      <th>mileage</th>\n",
       "      <th>vehicle_age</th>\n",
       "      <th>windscreen_cover</th>\n",
       "      <th>credit_score</th>\n",
       "      <th>ncb</th>\n",
       "      <th>deductible</th>\n",
       "      <th>driving_record</th>\n",
       "      <th>policy_duration</th>\n",
       "      <th>area</th>\n",
       "      <th>underwriting_year</th>\n",
       "      <th>claim_count</th>\n",
       "    </tr>\n",
       "  </thead>\n",
       "  <tbody>\n",
       "    <tr>\n",
       "      <th>0</th>\n",
       "      <td>1</td>\n",
       "      <td>32.0</td>\n",
       "      <td>18.0</td>\n",
       "      <td>1</td>\n",
       "      <td>5</td>\n",
       "      <td>19092.0</td>\n",
       "      <td>8.0</td>\n",
       "      <td>False</td>\n",
       "      <td>348.0</td>\n",
       "      <td>2</td>\n",
       "      <td>250</td>\n",
       "      <td>1.0</td>\n",
       "      <td>1</td>\n",
       "      <td>154</td>\n",
       "      <td>2017.0</td>\n",
       "      <td>0</td>\n",
       "    </tr>\n",
       "    <tr>\n",
       "      <th>1</th>\n",
       "      <td>6</td>\n",
       "      <td>55.0</td>\n",
       "      <td>17.0</td>\n",
       "      <td>0</td>\n",
       "      <td>3</td>\n",
       "      <td>1424.0</td>\n",
       "      <td>16.0</td>\n",
       "      <td>False</td>\n",
       "      <td>672.0</td>\n",
       "      <td>2</td>\n",
       "      <td>250</td>\n",
       "      <td>0.0</td>\n",
       "      <td>0</td>\n",
       "      <td>298</td>\n",
       "      <td>2014.0</td>\n",
       "      <td>0</td>\n",
       "    </tr>\n",
       "    <tr>\n",
       "      <th>2</th>\n",
       "      <td>0</td>\n",
       "      <td>61.0</td>\n",
       "      <td>13.0</td>\n",
       "      <td>0</td>\n",
       "      <td>3</td>\n",
       "      <td>14028.0</td>\n",
       "      <td>7.0</td>\n",
       "      <td>False</td>\n",
       "      <td>92.0</td>\n",
       "      <td>0</td>\n",
       "      <td>250</td>\n",
       "      <td>2.0</td>\n",
       "      <td>0</td>\n",
       "      <td>184</td>\n",
       "      <td>2017.0</td>\n",
       "      <td>1</td>\n",
       "    </tr>\n",
       "    <tr>\n",
       "      <th>3</th>\n",
       "      <td>7</td>\n",
       "      <td>32.0</td>\n",
       "      <td>15.0</td>\n",
       "      <td>1</td>\n",
       "      <td>1</td>\n",
       "      <td>6019.0</td>\n",
       "      <td>19.0</td>\n",
       "      <td>False</td>\n",
       "      <td>260.0</td>\n",
       "      <td>2</td>\n",
       "      <td>750</td>\n",
       "      <td>6.0</td>\n",
       "      <td>0</td>\n",
       "      <td>333</td>\n",
       "      <td>2014.0</td>\n",
       "      <td>0</td>\n",
       "    </tr>\n",
       "    <tr>\n",
       "      <th>4</th>\n",
       "      <td>6</td>\n",
       "      <td>46.0</td>\n",
       "      <td>6.0</td>\n",
       "      <td>1</td>\n",
       "      <td>2</td>\n",
       "      <td>2393.0</td>\n",
       "      <td>9.0</td>\n",
       "      <td>False</td>\n",
       "      <td>620.0</td>\n",
       "      <td>1</td>\n",
       "      <td>500</td>\n",
       "      <td>2.0</td>\n",
       "      <td>0</td>\n",
       "      <td>274</td>\n",
       "      <td>2018.0</td>\n",
       "      <td>0</td>\n",
       "    </tr>\n",
       "  </tbody>\n",
       "</table>\n",
       "</div>"
      ]
     },
     "metadata": {},
     "execution_count": 496
    }
   ],
   "metadata": {}
  },
  {
   "cell_type": "code",
   "execution_count": 20,
   "source": [
    "#Take the X and y data and split them into train and test with test being 20%\r\n",
    "#ExtraTreesClassifier has a method called feature importance\r\n",
    "#The importance of a feature is computed as the (normalized) \r\n",
    "# total reduction of the criterion brought by that feature. It is also known as the Gini importance.\r\n",
    "\r\n",
    "#https://scikit-learn.org/stable/modules/generated/sklearn.ensemble.ExtraTreesClassifier.html\r\n",
    "\r\n",
    "from sklearn.ensemble import ExtraTreesClassifier\r\n",
    "from sklearn.metrics import accuracy_score \r\n",
    "from sklearn.model_selection import train_test_split\r\n",
    "\r\n",
    "# Pick all the X data and y \r\n",
    "X = data.iloc[:, 0:15]\r\n",
    "y = data.iloc[:, 15:16]\r\n",
    "X_train, X_test, y_train, y_test = train_test_split(X,y,test_size=0.2,random_state=47)"
   ],
   "outputs": [],
   "metadata": {}
  },
  {
   "cell_type": "code",
   "execution_count": 570,
   "source": [
    "#Apply feature selection using ExtraTreesClassifier to find features importance\r\n",
    "reg = ExtraTreesClassifier()\r\n",
    "reg.fit(X_train,y_train)\r\n",
    "#Run the code if you wish to see plot on next line, took 74.4 seconds on my machine"
   ],
   "outputs": [
    {
     "output_type": "stream",
     "name": "stderr",
     "text": [
      "<ipython-input-570-8cef57fecf22>:3: DataConversionWarning: A column-vector y was passed when a 1d array was expected. Please change the shape of y to (n_samples,), for example using ravel().\n",
      "  reg.fit(X_train,y_train)\n"
     ]
    },
    {
     "output_type": "execute_result",
     "data": {
      "text/plain": [
       "ExtraTreesClassifier()"
      ]
     },
     "metadata": {},
     "execution_count": 570
    }
   ],
   "metadata": {}
  },
  {
   "cell_type": "code",
   "execution_count": 571,
   "source": [
    "important_features = pd.Series(reg.feature_importances_, index = X_train.columns)\r\n",
    "important_features.plot(kind= 'barh') #Plot a horizontal bar"
   ],
   "outputs": [
    {
     "output_type": "execute_result",
     "data": {
      "text/plain": [
       "<AxesSubplot:>"
      ]
     },
     "metadata": {},
     "execution_count": 571
    },
    {
     "output_type": "display_data",
     "data": {
      "text/plain": [
       "<Figure size 432x288 with 1 Axes>"
      ],
      "image/png": "[encoded data removed]"
     },
     "metadata": {}
    }
   ],
   "metadata": {}
  },
  {
   "cell_type": "markdown",
   "source": [
    "### So we will drop windscreen cover, gender, deductible and policy_duration. In addition, tree based algorithms are insensitive to the scale of the features"
   ],
   "metadata": {}
  },
  {
   "cell_type": "code",
   "execution_count": 21,
   "source": [
    "#Create the new data\r\n",
    "new_data = data.drop(['gender','deductible','windscreen_cover','policy_duration'],axis= 1)\r\n",
    "new_data.head()"
   ],
   "outputs": [
    {
     "output_type": "execute_result",
     "data": {
      "text/plain": [
       "   colour  driver_age  experience  type  mileage  vehicle_age  credit_score  \\\n",
       "0       1        32.0        18.0     5  19092.0          8.0         348.0   \n",
       "1       6        55.0        17.0     3   1424.0         16.0         672.0   \n",
       "2       0        61.0        13.0     3  14028.0          7.0          92.0   \n",
       "3       7        32.0        15.0     1   6019.0         19.0         260.0   \n",
       "4       6        46.0         6.0     2   2393.0          9.0         620.0   \n",
       "\n",
       "   ncb  driving_record  area  underwriting_year  claim_count  \n",
       "0    2             1.0   154             2017.0            0  \n",
       "1    2             0.0   298             2014.0            0  \n",
       "2    0             2.0   184             2017.0            1  \n",
       "3    2             6.0   333             2014.0            0  \n",
       "4    1             2.0   274             2018.0            0  "
      ],
      "text/html": [
       "<div>\n",
       "<style scoped>\n",
       "    .dataframe tbody tr th:only-of-type {\n",
       "        vertical-align: middle;\n",
       "    }\n",
       "\n",
       "    .dataframe tbody tr th {\n",
       "        vertical-align: top;\n",
       "    }\n",
       "\n",
       "    .dataframe thead th {\n",
       "        text-align: right;\n",
       "    }\n",
       "</style>\n",
       "<table border=\"1\" class=\"dataframe\">\n",
       "  <thead>\n",
       "    <tr style=\"text-align: right;\">\n",
       "      <th></th>\n",
       "      <th>colour</th>\n",
       "      <th>driver_age</th>\n",
       "      <th>experience</th>\n",
       "      <th>type</th>\n",
       "      <th>mileage</th>\n",
       "      <th>vehicle_age</th>\n",
       "      <th>credit_score</th>\n",
       "      <th>ncb</th>\n",
       "      <th>driving_record</th>\n",
       "      <th>area</th>\n",
       "      <th>underwriting_year</th>\n",
       "      <th>claim_count</th>\n",
       "    </tr>\n",
       "  </thead>\n",
       "  <tbody>\n",
       "    <tr>\n",
       "      <th>0</th>\n",
       "      <td>1</td>\n",
       "      <td>32.0</td>\n",
       "      <td>18.0</td>\n",
       "      <td>5</td>\n",
       "      <td>19092.0</td>\n",
       "      <td>8.0</td>\n",
       "      <td>348.0</td>\n",
       "      <td>2</td>\n",
       "      <td>1.0</td>\n",
       "      <td>154</td>\n",
       "      <td>2017.0</td>\n",
       "      <td>0</td>\n",
       "    </tr>\n",
       "    <tr>\n",
       "      <th>1</th>\n",
       "      <td>6</td>\n",
       "      <td>55.0</td>\n",
       "      <td>17.0</td>\n",
       "      <td>3</td>\n",
       "      <td>1424.0</td>\n",
       "      <td>16.0</td>\n",
       "      <td>672.0</td>\n",
       "      <td>2</td>\n",
       "      <td>0.0</td>\n",
       "      <td>298</td>\n",
       "      <td>2014.0</td>\n",
       "      <td>0</td>\n",
       "    </tr>\n",
       "    <tr>\n",
       "      <th>2</th>\n",
       "      <td>0</td>\n",
       "      <td>61.0</td>\n",
       "      <td>13.0</td>\n",
       "      <td>3</td>\n",
       "      <td>14028.0</td>\n",
       "      <td>7.0</td>\n",
       "      <td>92.0</td>\n",
       "      <td>0</td>\n",
       "      <td>2.0</td>\n",
       "      <td>184</td>\n",
       "      <td>2017.0</td>\n",
       "      <td>1</td>\n",
       "    </tr>\n",
       "    <tr>\n",
       "      <th>3</th>\n",
       "      <td>7</td>\n",
       "      <td>32.0</td>\n",
       "      <td>15.0</td>\n",
       "      <td>1</td>\n",
       "      <td>6019.0</td>\n",
       "      <td>19.0</td>\n",
       "      <td>260.0</td>\n",
       "      <td>2</td>\n",
       "      <td>6.0</td>\n",
       "      <td>333</td>\n",
       "      <td>2014.0</td>\n",
       "      <td>0</td>\n",
       "    </tr>\n",
       "    <tr>\n",
       "      <th>4</th>\n",
       "      <td>6</td>\n",
       "      <td>46.0</td>\n",
       "      <td>6.0</td>\n",
       "      <td>2</td>\n",
       "      <td>2393.0</td>\n",
       "      <td>9.0</td>\n",
       "      <td>620.0</td>\n",
       "      <td>1</td>\n",
       "      <td>2.0</td>\n",
       "      <td>274</td>\n",
       "      <td>2018.0</td>\n",
       "      <td>0</td>\n",
       "    </tr>\n",
       "  </tbody>\n",
       "</table>\n",
       "</div>"
      ]
     },
     "metadata": {},
     "execution_count": 21
    }
   ],
   "metadata": {}
  },
  {
   "cell_type": "markdown",
   "source": [
    "__________________________________"
   ],
   "metadata": {}
  },
  {
   "cell_type": "markdown",
   "source": [
    "# Part 3: Decision Tree without hyperparameter tuning"
   ],
   "metadata": {}
  },
  {
   "cell_type": "markdown",
   "source": [
    "Decision tree and Random forest were chosen becasue this paper outlines they were the best performing algorithms:\\\r\n",
    "Machine Learning Approaches for Auto Insurance Big Data\r\n",
    "Mohamed Hanafy and Ruixing Ming"
   ],
   "metadata": {}
  },
  {
   "cell_type": "markdown",
   "source": [
    "## Decision Tree Classifier\r\n",
    "\r\n",
    "Pros:\r\n",
    "1. It can work in a non-linear fashion, it can achieve high performance\r\n",
    "2. Easy to interpret and understand\r\n",
    "\r\n",
    "Cons:\r\n",
    "1. They can easily overfit\r\n",
    "2. Random Forests need a lot of memory and are slower \\\r\n",
    "(hence why I have not applied GridSearchCV in Random Forest case)"
   ],
   "metadata": {}
  },
  {
   "cell_type": "code",
   "execution_count": 22,
   "source": [
    "from sklearn.tree import DecisionTreeClassifier # Import Decision Tree Classifier\r\n",
    "from sklearn.model_selection import train_test_split # Import train_test_split function\r\n",
    "from sklearn import metrics\r\n",
    "from sklearn.model_selection import GridSearchCV"
   ],
   "outputs": [],
   "metadata": {}
  },
  {
   "cell_type": "code",
   "execution_count": 62,
   "source": [
    "#Split the data into train and test\r\n",
    "X = new_data.iloc[:, 0:11]\r\n",
    "y = new_data.iloc[:, 11:12]\r\n",
    "X_train, X_test, y_train, y_test = train_test_split(X,y,test_size=0.2,random_state=47)"
   ],
   "outputs": [],
   "metadata": {}
  },
  {
   "cell_type": "code",
   "execution_count": 63,
   "source": [
    "decisiontree = DecisionTreeClassifier()\r\n",
    "decisiontree = decisiontree.fit(X_train,y_train)\r\n",
    "#Predict the test dataset\r\n",
    "y_pred = decisiontree.predict(X_test)"
   ],
   "outputs": [],
   "metadata": {}
  },
  {
   "cell_type": "code",
   "execution_count": 65,
   "source": [
    "print(\"Accuracy for decision tree:\",metrics.accuracy_score(y_test, y_pred))"
   ],
   "outputs": [
    {
     "output_type": "stream",
     "name": "stdout",
     "text": [
      "Accuracy for decision tree: 0.79908851884312\n"
     ]
    }
   ],
   "metadata": {}
  },
  {
   "cell_type": "markdown",
   "source": [
    "# Decision Tree with hyperparamter tuning"
   ],
   "metadata": {}
  },
  {
   "cell_type": "code",
   "execution_count": 14,
   "source": [
    "# Hyperparameter tuning\r\n",
    "\r\n",
    "parameters = {\r\n",
    "    'max_depth': [2, 3, 5, 10, 20],\r\n",
    "    'min_samples_leaf': [5, 10, 20, 50, 100],\r\n",
    "    'min_weight_fraction_leaf': [0.1,0.2,0.6,0.8,0.9],\r\n",
    "    'criterion': [\"gini\", \"entropy\"]\r\n",
    "}\r\n"
   ],
   "outputs": [],
   "metadata": {}
  },
  {
   "cell_type": "code",
   "execution_count": 15,
   "source": [
    "grid_search = GridSearchCV(DecisionTreeClassifier(), \r\n",
    "                           param_grid=parameters, \r\n",
    "                           cv=5, n_jobs=-1, verbose=1, scoring = \"accuracy\")"
   ],
   "outputs": [],
   "metadata": {}
  },
  {
   "cell_type": "code",
   "execution_count": 16,
   "source": [
    "grid_search.fit(X_train,y_train) "
   ],
   "outputs": [
    {
     "output_type": "stream",
     "name": "stdout",
     "text": [
      "Fitting 5 folds for each of 250 candidates, totalling 1250 fits\n"
     ]
    },
    {
     "output_type": "stream",
     "name": "stderr",
     "text": [
      "C:\\Users\\krist\\AppData\\Local\\Programs\\Python\\Python39\\lib\\site-packages\\sklearn\\model_selection\\_split.py:666: UserWarning: The least populated class in y has only 2 members, which is less than n_splits=5.\n",
      "  warnings.warn((\"The least populated class in y has only %d\"\n",
      "C:\\Users\\krist\\AppData\\Local\\Programs\\Python\\Python39\\lib\\site-packages\\sklearn\\model_selection\\_search.py:922: UserWarning: One or more of the test scores are non-finite: [0.89774401 0.89774401        nan        nan        nan 0.89774401\n",
      " 0.89774401        nan        nan        nan 0.89774401 0.89774401\n",
      "        nan        nan        nan 0.89774401 0.89774401        nan\n",
      "        nan        nan 0.89774401 0.89774401        nan        nan\n",
      "        nan 0.89774401 0.89774401        nan        nan        nan\n",
      " 0.89774401 0.89774401        nan        nan        nan 0.89774401\n",
      " 0.89774401        nan        nan        nan 0.89774401 0.89774401\n",
      "        nan        nan        nan 0.89774401 0.89774401        nan\n",
      "        nan        nan 0.89774401 0.89774401        nan        nan\n",
      "        nan 0.89774401 0.89774401        nan        nan        nan\n",
      " 0.89774401 0.89774401        nan        nan        nan 0.89774401\n",
      " 0.89774401        nan        nan        nan 0.89774401 0.89774401\n",
      "        nan        nan        nan 0.89774401 0.89774401        nan\n",
      "        nan        nan 0.89774401 0.89774401        nan        nan\n",
      "        nan 0.89774401 0.89774401        nan        nan        nan\n",
      " 0.89774401 0.89774401        nan        nan        nan 0.89774401\n",
      " 0.89774401        nan        nan        nan 0.89774401 0.89774401\n",
      "        nan        nan        nan 0.89774401 0.89774401        nan\n",
      "        nan        nan 0.89774401 0.89774401        nan        nan\n",
      "        nan 0.89774401 0.89774401        nan        nan        nan\n",
      " 0.89774401 0.89774401        nan        nan        nan 0.89774401\n",
      " 0.89774401        nan        nan        nan 0.89774401 0.89774401\n",
      "        nan        nan        nan 0.89774401 0.89774401        nan\n",
      "        nan        nan 0.89774401 0.89774401        nan        nan\n",
      "        nan 0.89774401 0.89774401        nan        nan        nan\n",
      " 0.89774401 0.89774401        nan        nan        nan 0.89774401\n",
      " 0.89774401        nan        nan        nan 0.89774401 0.89774401\n",
      "        nan        nan        nan 0.89774401 0.89774401        nan\n",
      "        nan        nan 0.89774401 0.89774401        nan        nan\n",
      "        nan 0.89774401 0.89774401        nan        nan        nan\n",
      " 0.89774401 0.89774401        nan        nan        nan 0.89774401\n",
      " 0.89774401        nan        nan        nan 0.89774401 0.89774401\n",
      "        nan        nan        nan 0.89774401 0.89774401        nan\n",
      "        nan        nan 0.89774401 0.89774401        nan        nan\n",
      "        nan 0.89774401 0.89774401        nan        nan        nan\n",
      " 0.89774401 0.89774401        nan        nan        nan 0.89774401\n",
      " 0.89774401        nan        nan        nan 0.89774401 0.89774401\n",
      "        nan        nan        nan 0.89774401 0.89774401        nan\n",
      "        nan        nan 0.89774401 0.89774401        nan        nan\n",
      "        nan 0.89774401 0.89774401        nan        nan        nan\n",
      " 0.89774401 0.89774401        nan        nan        nan 0.89774401\n",
      " 0.89774401        nan        nan        nan]\n",
      "  warnings.warn(\n"
     ]
    },
    {
     "output_type": "execute_result",
     "data": {
      "text/plain": [
       "GridSearchCV(cv=5, estimator=DecisionTreeClassifier(), n_jobs=-1,\n",
       "             param_grid={'criterion': ['gini', 'entropy'],\n",
       "                         'max_depth': [2, 3, 5, 10, 20],\n",
       "                         'min_samples_leaf': [5, 10, 20, 50, 100],\n",
       "                         'min_weight_fraction_leaf': [0.1, 0.2, 0.6, 0.8, 0.9]},\n",
       "             scoring='accuracy', verbose=1)"
      ]
     },
     "metadata": {},
     "execution_count": 16
    }
   ],
   "metadata": {}
  },
  {
   "cell_type": "code",
   "execution_count": 17,
   "source": [
    "grid_search.best_estimator_\r\n",
    "#Results:\r\n",
    "#DecisionTreeClassifier(max_depth=2, min_samples_leaf=5,\r\n",
    "                       #min_weight_fraction_leaf=0.1)"
   ],
   "outputs": [
    {
     "output_type": "execute_result",
     "data": {
      "text/plain": [
       "DecisionTreeClassifier(max_depth=2, min_samples_leaf=5,\n",
       "                       min_weight_fraction_leaf=0.1)"
      ]
     },
     "metadata": {},
     "execution_count": 17
    }
   ],
   "metadata": {}
  },
  {
   "cell_type": "code",
   "execution_count": 66,
   "source": [
    "decisiontree_hyper = DecisionTreeClassifier(max_depth=2, min_samples_leaf=5,\r\n",
    "                       min_weight_fraction_leaf=0.1)\r\n",
    "decisiontree_hyper.fit(X_train, y_train)\r\n",
    "y_pred = decisiontree_hyper.predict(X_test)"
   ],
   "outputs": [],
   "metadata": {}
  },
  {
   "cell_type": "code",
   "execution_count": 67,
   "source": [
    "print(\"Accuracy of decision tree (hyperparamters):\",metrics.accuracy_score(y_test, y_pred)) #10% increase"
   ],
   "outputs": [
    {
     "output_type": "stream",
     "name": "stdout",
     "text": [
      "Accuracy of decision tree (hyperparamters): 0.8931814198071867\n"
     ]
    }
   ],
   "metadata": {}
  },
  {
   "cell_type": "markdown",
   "source": [
    "***"
   ],
   "metadata": {}
  },
  {
   "cell_type": "markdown",
   "source": [
    "# Part 4: Random Forest Classifier"
   ],
   "metadata": {}
  },
  {
   "cell_type": "code",
   "execution_count": 68,
   "source": [
    "from sklearn.ensemble import RandomForestClassifier\r\n",
    "\r\n",
    "X = new_data.iloc[:, 0:11]\r\n",
    "y = new_data.iloc[:, 11:12]\r\n",
    "X_train, X_test, y_train, y_test = train_test_split(X,y,test_size=0.2,random_state=47)\r\n",
    "\r\n",
    "randomforest = RandomForestClassifier(n_estimators=100)\r\n",
    "#Train the model\r\n",
    "randomforest.fit(X_train,y_train)\r\n",
    "\r\n",
    "y_pred = randomforest.predict(X_test)"
   ],
   "outputs": [
    {
     "output_type": "stream",
     "name": "stderr",
     "text": [
      "<ipython-input-68-1c8f9454dbe5>:9: DataConversionWarning: A column-vector y was passed when a 1d array was expected. Please change the shape of y to (n_samples,), for example using ravel().\n",
      "  randomforest.fit(X_train,y_train)\n"
     ]
    }
   ],
   "metadata": {}
  },
  {
   "cell_type": "code",
   "execution_count": 69,
   "source": [
    "print(\"Accuracy for random forest:\",metrics.accuracy_score(y_test, y_pred))\r\n",
    "#The result is almost the same as a decision tree with hyperparameters tuned"
   ],
   "outputs": [
    {
     "output_type": "stream",
     "name": "stdout",
     "text": [
      "Accuracy for random forest: 0.8931463628396143\n"
     ]
    }
   ],
   "metadata": {}
  },
  {
   "cell_type": "markdown",
   "source": [
    "***"
   ],
   "metadata": {}
  },
  {
   "cell_type": "markdown",
   "source": [
    "# Apply Random Forest to predict the data"
   ],
   "metadata": {}
  },
  {
   "cell_type": "markdown",
   "source": [
    "Random Forest was chosen as it it simpler and has overall good accuracy"
   ],
   "metadata": {}
  },
  {
   "cell_type": "code",
   "execution_count": 50,
   "source": [
    "#Load the candidate data and perform the same operations as before\r\n",
    "\r\n",
    "final_data = pd.read_csv(r'C:\\Users\\krist\\Downloads\\DS Technical Challenge\\X_holdout_candidate.csv')"
   ],
   "outputs": [],
   "metadata": {}
  },
  {
   "cell_type": "code",
   "execution_count": 51,
   "source": [
    "final_data = final_data.drop(['Unnamed: 0','policy_ref','policy_holder'],axis = 1) \r\n",
    "\r\n",
    "print(final_data.isnull().sum())\r\n",
    "final_data = final_data.dropna()\r\n",
    "print(len(final_data))"
   ],
   "outputs": [
    {
     "output_type": "stream",
     "name": "stdout",
     "text": [
      "colour               3290\n",
      "driver_age            331\n",
      "experience              0\n",
      "gender                171\n",
      "type                    0\n",
      "mileage                 0\n",
      "vehicle_age             0\n",
      "windscreen_cover        0\n",
      "credit_score            0\n",
      "ncb                     0\n",
      "deductible              0\n",
      "driving_record          0\n",
      "policy_duration         0\n",
      "area                    0\n",
      "underwriting_year       0\n",
      "dtype: int64\n",
      "12925\n"
     ]
    }
   ],
   "metadata": {}
  },
  {
   "cell_type": "code",
   "execution_count": 52,
   "source": [
    "final_data = final_data.drop(['gender','deductible','windscreen_cover','policy_duration'],axis= 1)"
   ],
   "outputs": [],
   "metadata": {}
  },
  {
   "cell_type": "code",
   "execution_count": 53,
   "source": [
    "#Encode the data, only objects\r\n",
    "\r\n",
    "\r\n",
    "\r\n",
    "final_data[\"area\"] = final_data[\"area\"].astype('category')\r\n",
    "final_data[\"area\"] = final_data[\"area\"].cat.codes\r\n",
    "\r\n",
    "\r\n",
    "final_data[\"type\"] = final_data[\"type\"].astype('category')\r\n",
    "final_data[\"type\"] = final_data[\"type\"].cat.codes\r\n",
    "\r\n",
    "final_data[\"colour\"] = final_data[\"colour\"].astype('category')\r\n",
    "final_data[\"colour\"] = final_data[\"colour\"].cat.codes\r\n",
    "\r\n",
    "print(final_data.dtypes)"
   ],
   "outputs": [
    {
     "output_type": "stream",
     "name": "stdout",
     "text": [
      "colour                  int8\n",
      "driver_age           float64\n",
      "experience           float64\n",
      "type                    int8\n",
      "mileage              float64\n",
      "vehicle_age          float64\n",
      "credit_score         float64\n",
      "ncb                    int64\n",
      "driving_record       float64\n",
      "area                   int16\n",
      "underwriting_year    float64\n",
      "dtype: object\n"
     ]
    }
   ],
   "metadata": {}
  },
  {
   "cell_type": "code",
   "execution_count": 54,
   "source": [
    "final_data "
   ],
   "outputs": [
    {
     "output_type": "execute_result",
     "data": {
      "text/plain": [
       "       colour  driver_age  experience  type  mileage  vehicle_age  \\\n",
       "0           6        31.0        18.0     1  12597.0          8.0   \n",
       "2           6        34.0        19.0     2   7550.0          4.0   \n",
       "3           2        21.0        18.0     4     21.0          9.0   \n",
       "4           6        33.0        18.0     3   4266.0          6.0   \n",
       "6           5        19.0        10.0     1  19009.0          8.0   \n",
       "...       ...         ...         ...   ...      ...          ...   \n",
       "16614       6        43.0        16.0     1  15303.0          5.0   \n",
       "16616       5        60.0         4.0     5  16036.0          4.0   \n",
       "16617       3        37.0         1.0     5  14671.0         23.0   \n",
       "16619       6        34.0        19.0     1   2881.0          9.0   \n",
       "16620       6        37.0        16.0     2  17210.0          7.0   \n",
       "\n",
       "       credit_score  ncb  driving_record  area  underwriting_year  \n",
       "0             163.0    7             0.0     1             2019.0  \n",
       "2             684.0   10             0.0    55             2019.0  \n",
       "3             616.0    0             4.0     0             2019.0  \n",
       "4             693.0   10             2.0    53             2019.0  \n",
       "6             709.0   10             1.0   188             2019.0  \n",
       "...             ...  ...             ...   ...                ...  \n",
       "16614         700.0    5             1.0   193             2019.0  \n",
       "16616         647.0    4             0.0   309             2019.0  \n",
       "16617         624.0    4             3.0   108             2019.0  \n",
       "16619         709.0    4             1.0   393             2019.0  \n",
       "16620         693.0    4             2.0   297             2019.0  \n",
       "\n",
       "[12925 rows x 11 columns]"
      ],
      "text/html": [
       "<div>\n",
       "<style scoped>\n",
       "    .dataframe tbody tr th:only-of-type {\n",
       "        vertical-align: middle;\n",
       "    }\n",
       "\n",
       "    .dataframe tbody tr th {\n",
       "        vertical-align: top;\n",
       "    }\n",
       "\n",
       "    .dataframe thead th {\n",
       "        text-align: right;\n",
       "    }\n",
       "</style>\n",
       "<table border=\"1\" class=\"dataframe\">\n",
       "  <thead>\n",
       "    <tr style=\"text-align: right;\">\n",
       "      <th></th>\n",
       "      <th>colour</th>\n",
       "      <th>driver_age</th>\n",
       "      <th>experience</th>\n",
       "      <th>type</th>\n",
       "      <th>mileage</th>\n",
       "      <th>vehicle_age</th>\n",
       "      <th>credit_score</th>\n",
       "      <th>ncb</th>\n",
       "      <th>driving_record</th>\n",
       "      <th>area</th>\n",
       "      <th>underwriting_year</th>\n",
       "    </tr>\n",
       "  </thead>\n",
       "  <tbody>\n",
       "    <tr>\n",
       "      <th>0</th>\n",
       "      <td>6</td>\n",
       "      <td>31.0</td>\n",
       "      <td>18.0</td>\n",
       "      <td>1</td>\n",
       "      <td>12597.0</td>\n",
       "      <td>8.0</td>\n",
       "      <td>163.0</td>\n",
       "      <td>7</td>\n",
       "      <td>0.0</td>\n",
       "      <td>1</td>\n",
       "      <td>2019.0</td>\n",
       "    </tr>\n",
       "    <tr>\n",
       "      <th>2</th>\n",
       "      <td>6</td>\n",
       "      <td>34.0</td>\n",
       "      <td>19.0</td>\n",
       "      <td>2</td>\n",
       "      <td>7550.0</td>\n",
       "      <td>4.0</td>\n",
       "      <td>684.0</td>\n",
       "      <td>10</td>\n",
       "      <td>0.0</td>\n",
       "      <td>55</td>\n",
       "      <td>2019.0</td>\n",
       "    </tr>\n",
       "    <tr>\n",
       "      <th>3</th>\n",
       "      <td>2</td>\n",
       "      <td>21.0</td>\n",
       "      <td>18.0</td>\n",
       "      <td>4</td>\n",
       "      <td>21.0</td>\n",
       "      <td>9.0</td>\n",
       "      <td>616.0</td>\n",
       "      <td>0</td>\n",
       "      <td>4.0</td>\n",
       "      <td>0</td>\n",
       "      <td>2019.0</td>\n",
       "    </tr>\n",
       "    <tr>\n",
       "      <th>4</th>\n",
       "      <td>6</td>\n",
       "      <td>33.0</td>\n",
       "      <td>18.0</td>\n",
       "      <td>3</td>\n",
       "      <td>4266.0</td>\n",
       "      <td>6.0</td>\n",
       "      <td>693.0</td>\n",
       "      <td>10</td>\n",
       "      <td>2.0</td>\n",
       "      <td>53</td>\n",
       "      <td>2019.0</td>\n",
       "    </tr>\n",
       "    <tr>\n",
       "      <th>6</th>\n",
       "      <td>5</td>\n",
       "      <td>19.0</td>\n",
       "      <td>10.0</td>\n",
       "      <td>1</td>\n",
       "      <td>19009.0</td>\n",
       "      <td>8.0</td>\n",
       "      <td>709.0</td>\n",
       "      <td>10</td>\n",
       "      <td>1.0</td>\n",
       "      <td>188</td>\n",
       "      <td>2019.0</td>\n",
       "    </tr>\n",
       "    <tr>\n",
       "      <th>...</th>\n",
       "      <td>...</td>\n",
       "      <td>...</td>\n",
       "      <td>...</td>\n",
       "      <td>...</td>\n",
       "      <td>...</td>\n",
       "      <td>...</td>\n",
       "      <td>...</td>\n",
       "      <td>...</td>\n",
       "      <td>...</td>\n",
       "      <td>...</td>\n",
       "      <td>...</td>\n",
       "    </tr>\n",
       "    <tr>\n",
       "      <th>16614</th>\n",
       "      <td>6</td>\n",
       "      <td>43.0</td>\n",
       "      <td>16.0</td>\n",
       "      <td>1</td>\n",
       "      <td>15303.0</td>\n",
       "      <td>5.0</td>\n",
       "      <td>700.0</td>\n",
       "      <td>5</td>\n",
       "      <td>1.0</td>\n",
       "      <td>193</td>\n",
       "      <td>2019.0</td>\n",
       "    </tr>\n",
       "    <tr>\n",
       "      <th>16616</th>\n",
       "      <td>5</td>\n",
       "      <td>60.0</td>\n",
       "      <td>4.0</td>\n",
       "      <td>5</td>\n",
       "      <td>16036.0</td>\n",
       "      <td>4.0</td>\n",
       "      <td>647.0</td>\n",
       "      <td>4</td>\n",
       "      <td>0.0</td>\n",
       "      <td>309</td>\n",
       "      <td>2019.0</td>\n",
       "    </tr>\n",
       "    <tr>\n",
       "      <th>16617</th>\n",
       "      <td>3</td>\n",
       "      <td>37.0</td>\n",
       "      <td>1.0</td>\n",
       "      <td>5</td>\n",
       "      <td>14671.0</td>\n",
       "      <td>23.0</td>\n",
       "      <td>624.0</td>\n",
       "      <td>4</td>\n",
       "      <td>3.0</td>\n",
       "      <td>108</td>\n",
       "      <td>2019.0</td>\n",
       "    </tr>\n",
       "    <tr>\n",
       "      <th>16619</th>\n",
       "      <td>6</td>\n",
       "      <td>34.0</td>\n",
       "      <td>19.0</td>\n",
       "      <td>1</td>\n",
       "      <td>2881.0</td>\n",
       "      <td>9.0</td>\n",
       "      <td>709.0</td>\n",
       "      <td>4</td>\n",
       "      <td>1.0</td>\n",
       "      <td>393</td>\n",
       "      <td>2019.0</td>\n",
       "    </tr>\n",
       "    <tr>\n",
       "      <th>16620</th>\n",
       "      <td>6</td>\n",
       "      <td>37.0</td>\n",
       "      <td>16.0</td>\n",
       "      <td>2</td>\n",
       "      <td>17210.0</td>\n",
       "      <td>7.0</td>\n",
       "      <td>693.0</td>\n",
       "      <td>4</td>\n",
       "      <td>2.0</td>\n",
       "      <td>297</td>\n",
       "      <td>2019.0</td>\n",
       "    </tr>\n",
       "  </tbody>\n",
       "</table>\n",
       "<p>12925 rows × 11 columns</p>\n",
       "</div>"
      ]
     },
     "metadata": {},
     "execution_count": 54
    }
   ],
   "metadata": {}
  },
  {
   "cell_type": "code",
   "execution_count": 70,
   "source": [
    "from sklearn.ensemble import RandomForestClassifier\r\n",
    "\r\n",
    "y_final_pred = randomforest.predict(final_data) #RandomForestClassifier from the previous part\r\n",
    "y_final_pred"
   ],
   "outputs": [
    {
     "output_type": "execute_result",
     "data": {
      "text/plain": [
       "array([0, 0, 0, ..., 0, 0, 0], dtype=int64)"
      ]
     },
     "metadata": {},
     "execution_count": 70
    }
   ],
   "metadata": {}
  },
  {
   "cell_type": "code",
   "execution_count": 72,
   "source": [
    "occurrences_1 = np.count_nonzero(y_final_pred == 1)\r\n",
    "occurrences_0 = np.count_nonzero(y_final_pred == 0)\r\n",
    "\r\n",
    "print('The number of 1: ',occurrences_1) #we would have 1 claim 3 times \r\n",
    "print('The number of 0: ',occurrences_0)"
   ],
   "outputs": [
    {
     "output_type": "stream",
     "name": "stdout",
     "text": [
      "The number of 1:  3\n",
      "The number of 0:  12922\n"
     ]
    }
   ],
   "metadata": {}
  }
 ],
 "metadata": {
  "kernelspec": {
   "name": "python3",
   "display_name": "Python 3.9.0 64-bit"
  },
  "language_info": {
   "codemirror_mode": {
    "name": "ipython",
    "version": 3
   },
   "file_extension": ".py",
   "mimetype": "text/x-python",
   "name": "python",
   "nbconvert_exporter": "python",
   "pygments_lexer": "ipython3",
   "version": "3.9.0"
  },
  "interpreter": {
   "hash": "a9c1387708d9e4974b2be20baf1ba03d24dc421de985eaacaca663e211393d73"
  }
 },
 "nbformat": 4,
 "nbformat_minor": 2
}